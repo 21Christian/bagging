{
 "cells": [
  {
   "cell_type": "code",
   "execution_count": 1,
   "id": "4f654478",
   "metadata": {},
   "outputs": [],
   "source": [
    "import pandas as pd\n",
    "from sklearn.preprocessing import LabelEncoder\n",
    "\n",
    "\n",
    "# loading the dataset\n",
    "data = pd.read_csv(\"C:\\\\Users\\\\User\\\\Desktop\\\\Datasets\\\\heart.csv\")"
   ]
  },
  {
   "cell_type": "code",
   "execution_count": 2,
   "id": "5ab34a90",
   "metadata": {},
   "outputs": [],
   "source": [
    "# encoding the data  \n",
    "le = LabelEncoder()\n",
    "data['Sex_n'] = le.fit_transform(data['Sex'])\n",
    "data['ExerciseAngina_n'] = le.fit_transform(data['ExerciseAngina'])\n",
    "data['RestingECG_n'] = le.fit_transform(data['RestingECG'])\n",
    "data['ChestPainType_n'] = le.fit_transform(data['ChestPainType'])\n",
    "\n",
    "data['ST_Slope_n'] = le.fit_transform(data['ST_Slope'])\n",
    "data = data.drop(['Sex', 'ExerciseAngina', 'RestingECG', 'ChestPainType', 'ST_Slope'], axis = 'columns')\n"
   ]
  },
  {
   "cell_type": "code",
   "execution_count": 4,
   "id": "2651773c",
   "metadata": {},
   "outputs": [],
   "source": [
    "X = data.drop('HeartDisease', axis = 'columns')\n",
    "y = data.HeartDisease"
   ]
  },
  {
   "cell_type": "code",
   "execution_count": 8,
   "id": "347f0e0f",
   "metadata": {},
   "outputs": [
    {
     "data": {
      "text/plain": [
       "(918, 2)"
      ]
     },
     "execution_count": 8,
     "metadata": {},
     "output_type": "execute_result"
    }
   ],
   "source": [
    "from sklearn.preprocessing import StandardScaler\n",
    "from sklearn.decomposition import PCA\n",
    "\n",
    "# scaling the data and reducing dimensions \n",
    "scaler = StandardScaler()\n",
    "X_scaled = scaler.fit_transform(X)\n",
    "\n",
    "pca = PCA(2)\n",
    "X_pca = pca.fit_transform(X)\n",
    "X_pca.shape"
   ]
  },
  {
   "cell_type": "code",
   "execution_count": 14,
   "id": "7c9d9e24",
   "metadata": {},
   "outputs": [
    {
     "name": "stdout",
     "output_type": "stream",
     "text": [
      "0.8315217391304348\n",
      "0.7989130434782609\n"
     ]
    }
   ],
   "source": [
    "# bagging the data \n",
    "from sklearn.ensemble import BaggingClassifier\n",
    "from sklearn.model_selection import train_test_split\n",
    "from sklearn.tree import DecisionTreeClassifier\n",
    "X_train, X_test, y_train, y_test = train_test_split(X_scaled, y, test_size=0.2)\n",
    "\n",
    "\n",
    "bag_model = BaggingClassifier(\n",
    "    base_estimator=DecisionTreeClassifier(), \n",
    "    n_estimators=100,\n",
    "    max_samples=0.8,\n",
    "    random_state=0\n",
    ")\n",
    "bag_model.fit(X_train, y_train)\n",
    "score_bm = bag_model.score(X_test, y_test)\n",
    "model = DecisionTreeClassifier()\n",
    "model.fit(X_train, y_train)\n",
    "model_score = model.score(X_test, y_test)\n",
    "print(score_bm)\n",
    "print(model_score)"
   ]
  },
  {
   "cell_type": "code",
   "execution_count": 16,
   "id": "97fcaf9b",
   "metadata": {},
   "outputs": [
    {
     "data": {
      "text/plain": [
       "0.8695652173913043"
      ]
     },
     "execution_count": 16,
     "metadata": {},
     "output_type": "execute_result"
    }
   ],
   "source": [
    "from sklearn.svm import SVC\n",
    "bag_model1 = BaggingClassifier(\n",
    "    base_estimator=SVC(), \n",
    "    n_estimators=100,\n",
    "    max_samples=0.8,\n",
    "    random_state=0\n",
    ")\n",
    "bag_model1.fit(X_train, y_train)\n",
    "bag_model1.score(X_test, y_test)"
   ]
  }
 ],
 "metadata": {
  "kernelspec": {
   "display_name": "Python 3 (ipykernel)",
   "language": "python",
   "name": "python3"
  },
  "language_info": {
   "codemirror_mode": {
    "name": "ipython",
    "version": 3
   },
   "file_extension": ".py",
   "mimetype": "text/x-python",
   "name": "python",
   "nbconvert_exporter": "python",
   "pygments_lexer": "ipython3",
   "version": "3.9.12"
  }
 },
 "nbformat": 4,
 "nbformat_minor": 5
}
